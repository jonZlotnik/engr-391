{
 "cells": [
  {
   "cell_type": "code",
   "execution_count": 13,
   "metadata": {
    "collapsed": true,
    "pycharm": {
     "name": "#%%\n"
    }
   },
   "outputs": [
    {
     "name": "stdout",
     "output_type": "stream",
     "text": [
      "1.075967935510541\n"
     ]
    }
   ],
   "source": [
    "import numpy as np\n",
    "import scipy as sp\n",
    "import scipy.optimize\n",
    "from sklearn.metrics import mean_squared_error\n",
    "\n",
    "def model_func(x, a_0, a_1):\n",
    "    return a_0 * np.e**(a_1 * x**2)\n",
    "\n",
    "x = [-2, 0, 1, 2, 3]\n",
    "y_true = [2.5, 1.0, 2.5, 5.7, 11.6]\n",
    "\n",
    "params, other = sp.optimize.curve_fit(model_func, x, y_true)\n",
    "\n",
    "y_pred = []\n",
    "for x_i in x:\n",
    "    y_pred.append(model_func(x_i, params[0], params[1]))\n",
    "\n",
    "rmse = np.sqrt(mean_squared_error(y_true, y_pred))\n",
    "print(rmse)"
   ]
  },
  {
   "cell_type": "markdown",
   "source": [
    "# Question 13"
   ],
   "metadata": {
    "collapsed": false,
    "pycharm": {
     "name": "#%% md\n"
    }
   }
  },
  {
   "cell_type": "code",
   "execution_count": 12,
   "outputs": [
    {
     "name": "stdout",
     "output_type": "stream",
     "text": [
      "x 24\n",
      "y 24\n",
      "params [16.24999993 -3.31924476 -0.03735725]\n",
      "1.2294071517274585\n"
     ]
    }
   ],
   "source": [
    "import numpy as np\n",
    "import scipy as sp\n",
    "import scipy.optimize\n",
    "from sklearn.metrics import mean_squared_error\n",
    "\n",
    "x = [0, 0.041666666666667, 0.083333333333333, 0.125, 0.166666666666667, 0.208333333333333, 0.25, 0.291666666666667, 0.333333333333333, 0.375, 0.416666666666667, 0.458333333333333, 0.5, 0.541666666666667, 0.583333333333333, 0.625, 0.666666666666667, 0.708333333333333, 0.75, 0.791666666666667, 0.833333333333333, 0.875, 0.916666666666667, 0.958333333333333 ]\n",
    "y_true = [ 15, 16, 15, 15, 15, 14, 14, 13, 13, 14, 13, 14, 15, 16, 18, 20, 21, 21, 21, 20, 19, 17, 16, 15 ]\n",
    "\n",
    "print(\"x\", len(x))\n",
    "print(\"y\", len(y_true))\n",
    "\n",
    "def model_func(t, a_0, a_1, a_2):\n",
    "    return a_0 + a_1 * np.sin(2 * np.pi * t) + a_2 * np.cos(2*np.pi*t)\n",
    "\n",
    "params, other = sp.optimize.curve_fit(model_func, x, y_true)\n",
    "print(\"params\", params)\n",
    "\n",
    "y_pred = []\n",
    "for x_i in x:\n",
    "    y_pred.append(model_func(x_i, params[0], params[1], params[2]))\n",
    "\n",
    "\n",
    "rmse = np.sqrt(mean_squared_error(y_true, y_pred))\n",
    "print(rmse)\n",
    "\n"
   ],
   "metadata": {
    "collapsed": false,
    "pycharm": {
     "name": "#%%\n"
    }
   }
  },
  {
   "cell_type": "markdown",
   "source": [
    "# Question 2"
   ],
   "metadata": {
    "collapsed": false
   }
  },
  {
   "cell_type": "code",
   "execution_count": 16,
   "outputs": [
    {
     "name": "stdout",
     "output_type": "stream",
     "text": [
      "params [ 3.32002639 -2.35522893  2.36320746]\n",
      "1.6467937577541956\n"
     ]
    }
   ],
   "source": [
    "import numpy as np\n",
    "import scipy as sp\n",
    "import scipy.optimize\n",
    "from sklearn.metrics import mean_squared_error\n",
    "\n",
    "x = [ -2, -1, 0, 1 ]\n",
    "y_true = [ 3, -2, 2, 4 ]\n",
    "\n",
    "# print(\"x\", len(x))\n",
    "# print(\"y\", len(y_true))\n",
    "\n",
    "def model_func(x, a_0, a_1, a_2):\n",
    "    return a_0 + a_1 * np.e**(-x**2) + a_2 * np.sin(x)\n",
    "\n",
    "params, other = sp.optimize.curve_fit(model_func, x, y_true)\n",
    "print(\"params\", params)\n",
    "\n",
    "y_pred = []\n",
    "for x_i in x:\n",
    "    y_pred.append(model_func(x_i, params[0], params[1], params[2]))\n",
    "\n",
    "\n",
    "rmse = np.sqrt(mean_squared_error(y_true, y_pred))\n",
    "print(rmse)\n",
    "\n"
   ],
   "metadata": {
    "collapsed": false,
    "pycharm": {
     "name": "#%%\n"
    }
   }
  },
  {
   "cell_type": "markdown",
   "source": [
    "# Question 3"
   ],
   "metadata": {
    "collapsed": false
   }
  },
  {
   "cell_type": "code",
   "execution_count": 18,
   "outputs": [
    {
     "name": "stdout",
     "output_type": "stream",
     "text": [
      "params [3, 7]\n",
      "rmse 16.36052158907737\n"
     ]
    }
   ],
   "source": [
    "import numpy as np\n",
    "import scipy as sp\n",
    "import scipy.optimize\n",
    "from sklearn.metrics import mean_squared_error\n",
    "\n",
    "x = [ -1, 2, 3 ]\n",
    "y_true = [ 3, 2, 1 ]\n",
    "\n",
    "# print(\"x\", len(x))\n",
    "# print(\"y\", len(y_true))\n",
    "\n",
    "def model_func(x, a_0, a_1):\n",
    "    return a_0 + a_1 * x\n",
    "\n",
    "params = [3, 7]\n",
    "print(\"params\", params)\n",
    "\n",
    "y_pred = []\n",
    "for x_i in x:\n",
    "    y_pred.append(model_func(x_i, params[0], params[1]))\n",
    "\n",
    "\n",
    "rmse = np.sqrt(mean_squared_error(y_true, y_pred))\n",
    "print(\"rmse\", rmse)\n"
   ],
   "metadata": {
    "collapsed": false,
    "pycharm": {
     "name": "#%%\n"
    }
   }
  },
  {
   "cell_type": "markdown",
   "source": [
    "# Question 4"
   ],
   "metadata": {
    "collapsed": false
   }
  },
  {
   "cell_type": "code",
   "execution_count": 19,
   "outputs": [
    {
     "name": "stdout",
     "output_type": "stream",
     "text": [
      "params [-3.1, -4.9]\n",
      "rmse_1 4.549797781162839\n",
      "params [-1.4, -4.0]\n",
      "rmse_2 2.770456199651319\n"
     ]
    }
   ],
   "source": [
    "import numpy as np\n",
    "import scipy as sp\n",
    "import scipy.optimize\n",
    "from sklearn.metrics import mean_squared_error\n",
    "\n",
    "x = [ -2, 1, 3 ]\n",
    "y_true = [ 2, -1, 1 ]\n",
    "\n",
    "def model_func(x, a_0, a_1):\n",
    "    return a_0 + a_1 * np.sin(x)\n",
    "\n",
    "params = [-3.1, -4.9]\n",
    "print(\"params\", params)\n",
    "\n",
    "y_pred = []\n",
    "for x_i in x:\n",
    "    y_pred.append(model_func(x_i, params[0], params[1]))\n",
    "\n",
    "rmse = np.sqrt(mean_squared_error(y_true, y_pred))\n",
    "print(\"rmse_1\", rmse)\n",
    "\n",
    "params = [-1.4, -4.0]\n",
    "print(\"params\", params)\n",
    "\n",
    "y_pred = []\n",
    "for x_i in x:\n",
    "    y_pred.append(model_func(x_i, params[0], params[1]))\n",
    "\n",
    "rmse = np.sqrt(mean_squared_error(y_true, y_pred))\n",
    "print(\"rmse_2\", rmse)\n",
    "\n"
   ],
   "metadata": {
    "collapsed": false,
    "pycharm": {
     "name": "#%%\n"
    }
   }
  },
  {
   "cell_type": "markdown",
   "source": [
    "# Question 5"
   ],
   "metadata": {
    "collapsed": false
   }
  },
  {
   "cell_type": "code",
   "execution_count": 20,
   "outputs": [
    {
     "name": "stdout",
     "output_type": "stream",
     "text": [
      "params [-1, 5]\n",
      "se 71.42776856085291\n"
     ]
    }
   ],
   "source": [
    "import numpy as np\n",
    "import scipy as sp\n",
    "import scipy.optimize\n",
    "from sklearn.metrics import mean_squared_error\n",
    "\n",
    "x = [ -1, 2, 3 ]\n",
    "y_true = [ 3, 2, 1 ]\n",
    "\n",
    "def model_func(x, a_0, a_1):\n",
    "    return a_0 + a_1 * np.sin(x)\n",
    "\n",
    "params = [-1, 5]\n",
    "print(\"params\", params)\n",
    "\n",
    "y_pred = []\n",
    "for x_i in x:\n",
    "    y_pred.append(model_func(x_i, params[0], params[1]))\n",
    "\n",
    "se = len(x) * mean_squared_error(y_true, y_pred)\n",
    "print(\"se\", se)"
   ],
   "metadata": {
    "collapsed": false,
    "pycharm": {
     "name": "#%%\n"
    }
   }
  }
 ],
 "metadata": {
  "kernelspec": {
   "display_name": "Python 3",
   "language": "python",
   "name": "python3"
  },
  "language_info": {
   "codemirror_mode": {
    "name": "ipython",
    "version": 2
   },
   "file_extension": ".py",
   "mimetype": "text/x-python",
   "name": "python",
   "nbconvert_exporter": "python",
   "pygments_lexer": "ipython2",
   "version": "2.7.6"
  }
 },
 "nbformat": 4,
 "nbformat_minor": 0
}