{
 "cells": [
  {
   "cell_type": "code",
   "execution_count": 3,
   "metadata": {
    "collapsed": true
   },
   "outputs": [],
   "source": []
  },
  {
   "cell_type": "markdown",
   "source": [
    "# Question 27"
   ],
   "metadata": {
    "collapsed": false
   }
  },
  {
   "cell_type": "code",
   "execution_count": 5,
   "outputs": [
    {
     "name": "stdout",
     "output_type": "stream",
     "text": [
      "params [ 3.75457410e+06  1.80985773e+05 -1.17833361e+04  3.50993715e+02]\n",
      "222111.25625537787\n"
     ]
    }
   ],
   "source": [
    "import numpy as np\n",
    "import scipy as sp\n",
    "import scipy.optimize\n",
    "from sklearn.metrics import mean_squared_error\n",
    "import pandas as pd\n",
    "df = pd.read_excel(\"WorldCoalProdcution.xlsx\")\n",
    "\n",
    "x = df.Year - 1980\n",
    "y_true = df.Coal\n",
    "\n",
    "def model_func(t, a_0, a_1, a_2, a_3):\n",
    "    return a_0 + a_1 * t + a_2 * t**2 + a_3 * t**3\n",
    "\n",
    "params, other = sp.optimize.curve_fit(model_func, x, y_true)\n",
    "print(\"params\", params)\n",
    "\n",
    "y_pred = []\n",
    "for x_i in x:\n",
    "    y_pred.append(model_func(x_i, params[0], params[1], params[2], params[3]))\n",
    "\n",
    "\n",
    "rmse = np.sqrt(mean_squared_error(y_true, y_pred))\n",
    "print(rmse)"
   ],
   "metadata": {
    "collapsed": false,
    "pycharm": {
     "name": "#%%\n"
    }
   }
  }
 ],
 "metadata": {
  "kernelspec": {
   "display_name": "Python 3",
   "language": "python",
   "name": "python3"
  },
  "language_info": {
   "codemirror_mode": {
    "name": "ipython",
    "version": 2
   },
   "file_extension": ".py",
   "mimetype": "text/x-python",
   "name": "python",
   "nbconvert_exporter": "python",
   "pygments_lexer": "ipython2",
   "version": "2.7.6"
  }
 },
 "nbformat": 4,
 "nbformat_minor": 0
}