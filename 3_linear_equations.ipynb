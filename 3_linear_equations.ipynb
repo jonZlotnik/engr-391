{
 "metadata": {
  "language_info": {
   "codemirror_mode": {
    "name": "ipython",
    "version": 3
   },
   "file_extension": ".py",
   "mimetype": "text/x-python",
   "name": "python",
   "nbconvert_exporter": "python",
   "pygments_lexer": "ipython3",
   "version": "3.8.7-final"
  },
  "orig_nbformat": 2,
  "kernelspec": {
   "name": "python3",
   "language": "python",
   "display_name": "Python 3"
  }
 },
 "nbformat": 4,
 "nbformat_minor": 2,
 "cells": [
  {
   "source": [
    "# Lesson 3: Linear Equations"
   ],
   "cell_type": "markdown",
   "metadata": {}
  },
  {
   "cell_type": "code",
   "execution_count": 58,
   "metadata": {},
   "outputs": [],
   "source": [
    "import numpy as np"
   ]
  },
  {
   "source": [
    "## Gauss Elimination with Partial Pivoting\n",
    "Transforms a system into a simpler one by replacing equations by new ones obtained by multiplication and subtraction of equations from the original system.\n"
   ],
   "cell_type": "markdown",
   "metadata": {}
  },
  {
   "source": [
    "def swap_for_largest_pivot(pivot_row, system):\n",
    "    largest_pivot_row = pivot_row\n",
    "    for row in range(pivot_row+1, len(system)):\n",
    "        if system[row][pivot_row] > system[largest_pivot_row][pivot_row]:\n",
    "            largest_pivot_row = row\n",
    "    old_pivot_row = system[pivot_row].copy()\n",
    "    system[pivot_row] = system[largest_pivot_row].copy()\n",
    "    system[largest_pivot_row] = old_pivot_row\n",
    "\n",
    "def forward_elimination(sys, naive=False):\n",
    "    sys = np.array(sys, np.float64)\n",
    "    # for pivot_row in range(0, len(sys) - 1):\n",
    "    n = len(sys)\n",
    "    for pivot_row in range(0, n-1):\n",
    "        if not naive:\n",
    "            swap_for_largest_pivot(pivot_row, sys)\n",
    "        pivot = sys[pivot_row][pivot_row]\n",
    "        # Reduce rest of rows\n",
    "        for i in range(pivot_row+1, n):\n",
    "            factor = sys[i][pivot_row] / pivot\n",
    "            reduced_row = sys[i] - factor * sys[pivot_row]\n",
    "            sys[i] = reduced_row\n",
    "    return sys\n",
    "\n",
    "def back_substitution(sys):\n",
    "    n = len(sys)\n",
    "    solution = [0] * n\n",
    "    solution[n-1] = sys[n-1][n] / sys[n-1][n-1]\n",
    "    for i in range(n-2, -1, -1):\n",
    "        sum = sys[i][n]\n",
    "        for j in range(i+1, n):\n",
    "            sum -= sys[i][j] * solution[j]\n",
    "        solution[i] = sum / sys[i][i]\n",
    "    return solution"
   ],
   "cell_type": "code",
   "metadata": {},
   "execution_count": 59,
   "outputs": []
  },
  {
   "source": [
    "Usage:"
   ],
   "cell_type": "markdown",
   "metadata": {}
  },
  {
   "cell_type": "code",
   "execution_count": 60,
   "metadata": {},
   "outputs": [
    {
     "name": "stdout",
     "output_type": "stream",
     "text": [
      "[[ 3.         14.         28.         -8.        ]\n",
      " [ 0.         -1.66666667 -6.33333333  4.66666667]\n",
      " [ 0.          0.          4.         -4.        ]]\n",
      "\n",
      "| --- Solution --- |\n",
      "[2.000000000000002, 0.9999999999999989, -0.9999999999999998]\n"
     ]
    }
   ],
   "source": [
    "system = [\n",
    "    [2,    6,    10,    0 ],\n",
    "    [1,    3,     3,    2 ],\n",
    "    [3,   14,    28,    -8 ]\n",
    "]\n",
    "forward_eliminated = forward_elimination(system)\n",
    "print(forward_eliminated)\n",
    "back_substituted = back_substitution(forward_eliminated)\n",
    "\n",
    "print(\"\\n| --- Solution --- |\")\n",
    "print(back_substituted)"
   ]
  },
  {
   "cell_type": "markdown",
   "source": [
    "## LU Decomposition"
   ],
   "metadata": {
    "collapsed": false
   }
  },
  {
   "cell_type": "code",
   "execution_count": 61,
   "outputs": [
    {
     "name": "stdout",
     "output_type": "stream",
     "text": [
      "(array([[ 1.,  0.,  0.],\n",
      "       [-0.,  1.,  0.],\n",
      "       [-0., -0.,  1.]]), array([[-3.,  2., -1.],\n",
      "       [ 0., -2.,  5.],\n",
      "       [ 0.,  0., -2.]]))\n"
     ]
    }
   ],
   "source": [
    "# Step 1\n",
    "def lu_decomp(coefficient_matrix):\n",
    "    n = len(coefficient_matrix)\n",
    "    upper = np.array(coefficient_matrix, np.float64)\n",
    "    lower = np.identity(n)\n",
    "    \n",
    "    for pivot_row in range(0, n-1):\n",
    "        pivot = upper[pivot_row][pivot_row]\n",
    "        # Reduce rest of rows\n",
    "        for i in range(pivot_row+1, n):\n",
    "            factor = upper[i][pivot_row] / pivot\n",
    "            lower[i][pivot_row] = factor\n",
    "            reduced_row = upper[i] - factor * upper[pivot_row]\n",
    "            upper[i] = reduced_row\n",
    "    return (lower, upper)\n",
    "\n",
    "# Step 2\n",
    "def forward_substitution(L, b):\n",
    "    d = np.array([0]*len(b), np.float64)\n",
    "    for row in range(len(b)):\n",
    "        d[row] = b[row]\n",
    "        for col in range(row):\n",
    "            d[row] = d[row] - d[col]*L[row][col]\n",
    "    return d\n",
    "# Step 3\n",
    "def naive_back_substitution(U, d):\n",
    "    x = np.array(d, np.float64)\n",
    "    for row in range(len(U)-1, -1, -1):\n",
    "        for col in range(len(U[row])-1, row, -1):\n",
    "            x[row] = x[row] - U[row][col]*x[col]\n",
    "        x[row] = x[row] / U[row][row]\n",
    "    return x\n",
    "\n",
    "    # U = np.rot90(np.fliplr(U))\n",
    "    # print(U)\n",
    "    # d.reverse()\n",
    "    # print(d)\n",
    "    # return forward_substitution(U, d)\n",
    "    # x = np.array([0]*len(d), np.float64)\n",
    "    # for row in reversed(range(len(d))):\n",
    "    #     x[row] = d[row]\n",
    "    #     for col in range(len(d)-1, row+1, -1):\n",
    "    #         x[row] = x[row] - x[col]*U[row][col]\n",
    "    #     x[row] = x[row] / U[row][row]\n",
    "    # return x\n",
    "print(\n",
    "    lu(\n",
    "        [[-3,2,-1],[0,-2,5],[0,0,-2]],\n",
    "        [-1, -9, 2]\n",
    "    )\n",
    ")\n",
    "\n",
    "\n"
   ],
   "metadata": {
    "collapsed": false,
    "pycharm": {
     "name": "#%%\n"
    }
   }
  },
  {
   "source": [
    "# Scratchpad"
   ],
   "cell_type": "markdown",
   "metadata": {}
  },
  {
   "cell_type": "code",
   "execution_count": 69,
   "metadata": {},
   "outputs": [
    {
     "name": "stdout",
     "output_type": "stream",
     "text": [
      "[[2. 1. 3.]\n",
      " [0. 4. 1.]\n",
      " [0. 0. 2.]]\n",
      "[[1. 0. 0.]\n",
      " [2. 1. 0.]\n",
      " [1. 2. 1.]]\n",
      "[-1. -5.  5.]\n",
      "LU Decomp\n",
      "P [[0. 1. 0.]\n",
      " [0. 0. 1.]\n",
      " [1. 0. 0.]]\n",
      "L [[1.         0.         0.        ]\n",
      " [0.33333333 1.         0.        ]\n",
      " [0.33333333 0.25       1.        ]]\n",
      "U [[ 3.         14.         28.        ]\n",
      " [ 0.         -6.66666667 -6.33333333]\n",
      " [ 0.          0.         -4.75      ]]\n",
      "lksdjf [[  3.   5.   2.   3.]\n",
      " [  0.   5.  10.  -6.]\n",
      " [  0.   0. -70.  -6.]]\n"
     ]
    }
   ],
   "source": [
    "import numpy as np\n",
    "from scipy.linalg import lu, solve\n",
    "coeficient_matrix = [\n",
    "    [2,1,3],\n",
    "    [4,6,7],\n",
    "    [2,9,7]\n",
    "]\n",
    "L, U = lu_decomp(coeficient_matrix)\n",
    "print(U)\n",
    "print(L)\n",
    "\n",
    "print(\n",
    "    forward_substitution(L, [-1, -7, -6])\n",
    ")\n",
    "# P = np.array([[0,1,0], [1,0,0], [0,0,1]], np.float64)\n",
    "# A = np.array([[2, 7, -2], [3, -5, 2], [7, 4, -1]], np.float64)\n",
    "# B = np.array([[7, 4, -1], [2, 7, -2], [3, -5, 2]], np.float64)\n",
    "# print(P * A)\n",
    "\n",
    "print(\"LU Decomp\")\n",
    "P, L, U = lu([[1,-2,3],[1,3,3],[3,14,28]])\n",
    "\n",
    "print(\"P\", P)\n",
    "print(\"L\", L)\n",
    "print(\"U\", U)\n",
    "\n",
    "\n",
    "solve([[-3, 2, -1],[6,-6,7],[3,-4,4]],[-1,-7,-6])\\\n",
    "\n",
    "system = [\n",
    "    [3,5,2,3],\n",
    "    [9,20,16,3],\n",
    "    [21,45,-36,3]\n",
    "]\n",
    "print(\"lksdjf\",forward_elimination(system, True))"
   ]
  },
  {
   "cell_type": "code",
   "execution_count": 62,
   "metadata": {},
   "outputs": [],
   "source": [
    "\n"
   ]
  }
 ]
}